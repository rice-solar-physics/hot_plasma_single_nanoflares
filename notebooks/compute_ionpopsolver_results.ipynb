{
 "cells": [
  {
   "cell_type": "code",
   "execution_count": 1,
   "metadata": {
    "collapsed": true
   },
   "outputs": [],
   "source": [
    "__depends__=[\"../results/ebtel_varying_tau_results.pickle\"]\n",
    "__dest__=[\"../results/tau20.electron.sol.txt\",\"../results/tau20.ion.sol.txt\",\"../results/tau20.single.sol.txt\",\n",
    "          \"../results/tau500.electron.sol.txt\",\"../results/tau500.ion.sol.txt\",\"../results/tau500.single.sol.txt\"]"
   ]
  },
  {
   "cell_type": "code",
   "execution_count": 2,
   "metadata": {
    "collapsed": true
   },
   "outputs": [],
   "source": [
    "%config ExecutePreprocessor.timeout = 400"
   ]
  },
  {
   "cell_type": "markdown",
   "metadata": {},
   "source": [
    "# Compute `IonPopSolver` Results\n",
    "Here, we'll run the `IonPopSolver` code using some of the EBTEL results in order to account for non-equilibrium ionization in our results. We'll use the `multiprocessing` module in Python to speed things up."
   ]
  },
  {
   "cell_type": "code",
   "execution_count": 3,
   "metadata": {
    "collapsed": true
   },
   "outputs": [],
   "source": [
    "import os\n",
    "import pickle\n",
    "import multiprocessing\n",
    "import subprocess\n",
    "import xml.etree.ElementTree as ET\n",
    "\n",
    "import numpy as np"
   ]
  },
  {
   "cell_type": "markdown",
   "metadata": {},
   "source": [
    "First, import the EBTEL results."
   ]
  },
  {
   "cell_type": "code",
   "execution_count": 4,
   "metadata": {
    "collapsed": true
   },
   "outputs": [],
   "source": [
    "with open(__depends__[0],'rb') as f:\n",
    "    varying_tau_results = pickle.load(f)"
   ]
  },
  {
   "cell_type": "markdown",
   "metadata": {},
   "source": [
    "Next, reshape the EBTEL results into something readable by the `IonPopSolver` code and save them to a file. Set some parameters for reading the data structure."
   ]
  },
  {
   "cell_type": "code",
   "execution_count": 5,
   "metadata": {
    "collapsed": true
   },
   "outputs": [],
   "source": [
    "tau_indices = [0,-1]\n",
    "prefixes = ['tau20','tau500']\n",
    "parameter_sets = {'single':('t','T','n'),'electron':('te','Tee','ne'),'ion':('ti','Tie','ni')}"
   ]
  },
  {
   "cell_type": "markdown",
   "metadata": {},
   "source": [
    "Now, print the files."
   ]
  },
  {
   "cell_type": "code",
   "execution_count": 6,
   "metadata": {
    "collapsed": false
   },
   "outputs": [],
   "source": [
    "inputs = []\n",
    "for i,pre in zip(tau_indices,prefixes):\n",
    "    for key in parameter_sets:\n",
    "        inputs.append(os.path.join('../results/','_tmp_%s.%s.ips.txt'%(pre,key)))\n",
    "        np.savetxt(os.path.join('../results/','_tmp_%s.%s.ips.txt'%(pre,key)),\n",
    "                   np.transpose([varying_tau_results[i][parameter_sets[key][0]],varying_tau_results[i][parameter_sets[key][1]],varying_tau_results[i][parameter_sets[key][2]]]),\n",
    "                   header=str(len(varying_tau_results[i][parameter_sets[key][0]])),comments='',fmt='%f\\t%e\\t%e')"
   ]
  },
  {
   "cell_type": "markdown",
   "metadata": {},
   "source": [
    "We need to modify the XML input file for the `IonPopSolver` code to make sure it points to the right atomic database (see install instructions in IonPopSolver). We'll also set the cutoff ion fraction to $1\\times10^{-6}$ to speed up the calculation."
   ]
  },
  {
   "cell_type": "code",
   "execution_count": 7,
   "metadata": {
    "collapsed": true
   },
   "outputs": [],
   "source": [
    "xml_tree = ET.parse(os.path.join(os.environ['EXP_DIR'],'IonPopSolver/test/radiation.example.cfg.xml'))\n",
    "root = xml_tree.getroot()\n",
    "node1 = root.find('atomicDB')\n",
    "node1.text = os.path.join(os.environ['EXP_DIR'],'apolloDB') + '/'\n",
    "node2 = root.find('cutoff_ion_fraction')\n",
    "node2.text = '1e-6'\n",
    "xml_tree.write(os.path.join(os.environ['EXP_DIR'],'IonPopSolver/test/radiation.local.cfg.xml'))"
   ]
  },
  {
   "cell_type": "markdown",
   "metadata": {},
   "source": [
    "Now, we'll run the code in parallel with the subprocess module. First, define the worker function that will run in parallel."
   ]
  },
  {
   "cell_type": "code",
   "execution_count": 8,
   "metadata": {
    "collapsed": true
   },
   "outputs": [],
   "source": [
    "def worker((input_file,output_file)):\n",
    "    print(\"Running IonPopSolver for input %s\"%(input_file))\n",
    "    executable = os.path.join(os.environ['EXP_DIR'],'IonPopSolver/bin/IonPopSolver.run')\n",
    "    static_args = [\"-Z\",\"26\",\"-f\",\"9\",\"-t\",\"27\",\"-r\",\n",
    "                   os.path.join(os.environ['EXP_DIR'],'IonPopSolver/test/radiation.local.cfg.xml')]\n",
    "    var_args = [\"-I\",os.path.abspath(input_file),\"-O\",os.path.abspath(output_file)]\n",
    "    subprocess.call([executable]+static_args+var_args)\n",
    "    print(\"Finished IonPopSolver for input %s\"%(input_file))"
   ]
  },
  {
   "cell_type": "markdown",
   "metadata": {},
   "source": [
    "Now, we need to assemble our list of inputs."
   ]
  },
  {
   "cell_type": "markdown",
   "metadata": {},
   "source": [
    "Finally, map the worker and inputs to the appropriate processors and run the code."
   ]
  },
  {
   "cell_type": "code",
   "execution_count": 9,
   "metadata": {
    "collapsed": false
   },
   "outputs": [
    {
     "name": "stdout",
     "output_type": "stream",
     "text": [
      "Running IonPopSolver for input ../results/_tmp_tau20.electron.ips.txt\n",
      "Running IonPopSolver for input ../results/_tmp_tau20.ion.ips.txt\n",
      "Finished IonPopSolver for input ../results/_tmp_tau20.ion.ips.txt\n",
      "Running IonPopSolver for input ../results/_tmp_tau20.single.ips.txt\n",
      "Finished IonPopSolver for input ../results/_tmp_tau20.electron.ips.txt\n",
      "Running IonPopSolver for input ../results/_tmp_tau500.electron.ips.txt\n",
      "Finished IonPopSolver for input ../results/_tmp_tau20.single.ips.txt\n",
      "Running IonPopSolver for input ../results/_tmp_tau500.ion.ips.txt\n",
      "Finished IonPopSolver for input ../results/_tmp_tau500.electron.ips.txt\n",
      "Running IonPopSolver for input ../results/_tmp_tau500.single.ips.txt\n",
      "Finished IonPopSolver for input ../results/_tmp_tau500.ion.ips.txt\n",
      "Finished IonPopSolver for input ../results/_tmp_tau500.single.ips.txt\n"
     ]
    },
    {
     "data": {
      "text/plain": [
       "[None, None, None, None, None, None]"
      ]
     },
     "execution_count": 9,
     "metadata": {},
     "output_type": "execute_result"
    }
   ],
   "source": [
    "p = multiprocessing.Pool()\n",
    "p.map(worker,zip(sorted(inputs),__dest__))"
   ]
  },
  {
   "cell_type": "code",
   "execution_count": 10,
   "metadata": {
    "collapsed": true
   },
   "outputs": [],
   "source": []
  }
 ],
 "metadata": {
  "kernelspec": {
   "display_name": "Python 2",
   "language": "python",
   "name": "python2"
  },
  "language_info": {
   "codemirror_mode": {
    "name": "ipython",
    "version": 2
   },
   "file_extension": ".py",
   "mimetype": "text/x-python",
   "name": "python",
   "nbconvert_exporter": "python",
   "pygments_lexer": "ipython2",
   "version": "2.7.11"
  }
 },
 "nbformat": 4,
 "nbformat_minor": 0
}
