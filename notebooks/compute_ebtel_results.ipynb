{
 "cells": [
  {
   "cell_type": "code",
   "execution_count": 1,
   "metadata": {
    "collapsed": true
   },
   "outputs": [],
   "source": [
    "__depends__=[]\n",
    "__dest__= [\"../results/ebtel_varying_tau_results.pickle\",\n",
    "           \"../results/ebtel_varying_flux_limiter_results.pickle\"\n",
    "          ]"
   ]
  },
  {
   "cell_type": "markdown",
   "metadata": {},
   "source": [
    "# Compute EBTEL Results\n",
    "Run the single- and two-fluid EBTEL models for a variety of inputs. This will be the basis for the rest of our analysis.\n",
    "\n",
    "First, import any needed modules."
   ]
  },
  {
   "cell_type": "code",
   "execution_count": 6,
   "metadata": {
    "collapsed": false
   },
   "outputs": [],
   "source": [
    "import sys\n",
    "import os\n",
    "import subprocess\n",
    "import pickle\n",
    "\n",
    "import numpy as np\n",
    "\n",
    "sys.path.append(os.path.join(os.environ['EXP_DIR'],'ebtelPlusPlus/rsp_toolkit/python'))\n",
    "from xml_io import InputHandler,OutputHandler"
   ]
  },
  {
   "cell_type": "markdown",
   "metadata": {},
   "source": [
    "Setup the base dictionary for all of the runs. We'll read in the base dictionary from the ebtel++ example configuration file."
   ]
  },
  {
   "cell_type": "code",
   "execution_count": 7,
   "metadata": {
    "collapsed": false
   },
   "outputs": [],
   "source": [
    "ih = InputHandler(os.path.join(os.environ['EXP_DIR'],'ebtelPlusPlus','config','ebtel.example.cfg.xml'))\n",
    "config_dict = ih.lookup_vars()"
   ]
  },
  {
   "cell_type": "code",
   "execution_count": 8,
   "metadata": {
    "collapsed": true
   },
   "outputs": [],
   "source": [
    "config_dict['use_adaptive_solver'] = False\n",
    "config_dict['loop_length'] = 40.0e+8\n",
    "config_dict['adaptive_solver_error'] = 1e-8\n",
    "config_dict['calculate_dem'] = False\n",
    "config_dict['total_time'] = 5000.0\n",
    "config_dict['tau'] = 0.1\n",
    "config_dict['use_c1_grav_correction'] = True\n",
    "config_dict['use_c1_loss_correction'] = True\n",
    "config_dict['c1_cond0'] = 6.0\n",
    "config_dict['c1_rad0'] = 0.6\n",
    "config_dict['heating']['background'] = 3.5e-5\n",
    "config_dict['output_filename'] = '../results/_tmp_'"
   ]
  },
  {
   "cell_type": "markdown",
   "metadata": {},
   "source": [
    "Next, construct a function that will make it easy to run all of the different EBTEL configurations."
   ]
  },
  {
   "cell_type": "code",
   "execution_count": 9,
   "metadata": {
    "collapsed": true
   },
   "outputs": [],
   "source": [
    "def run_and_print(tau,h0,f,flux_opt,oh_inst):\n",
    "    #create heating event\n",
    "    oh_inst.output_dict['heating']['events'] = [\n",
    "        {'event':{'magnitude':h0,'rise_start':0.0,'rise_end':tau/2.0,'decay_start':tau/2.0,'decay_end':tau}}\n",
    "    ]\n",
    "    #set heat flux options\n",
    "    oh_inst.output_dict['saturation_limit'] = f\n",
    "    oh_inst.output_dict['use_flux_limiting'] = flux_opt\n",
    "    #single-fluid    \n",
    "    oh_inst.output_dict['force_single_fluid'] = True\n",
    "    oh_inst.output_dict['heating']['partition'] = 0.5\n",
    "    oh_inst.print_to_xml()\n",
    "    subprocess.call([os.path.join(os.environ['EXP_DIR'],'ebtelPlusPlus','bin','ebtel++.run'),\n",
    "                     '-c',oh_inst.output_filename])\n",
    "    #save parameters to list\n",
    "    temp = np.loadtxt(oh_inst.output_dict['output_filename'])\n",
    "    t,T,n = temp[:,0],temp[:,1],temp[:,3]\n",
    "    #two-fluid\n",
    "    #--electron heating\n",
    "    oh_inst.output_dict['force_single_fluid'] = False\n",
    "    oh_inst.output_dict['heating']['partition'] = 1.0\n",
    "    oh_inst.print_to_xml()\n",
    "    subprocess.call([os.path.join(os.environ['EXP_DIR'],'ebtelPlusPlus','bin','ebtel++.run'),\n",
    "                     '-c',oh_inst.output_filename])\n",
    "    temp = np.loadtxt(oh_inst.output_dict['output_filename'])\n",
    "    te,Tee,Tei,ne= temp[:,0],temp[:,1],temp[:,2],temp[:,3]\n",
    "    #--ion heating\n",
    "    oh_inst.output_dict['force_single_fluid'] = False\n",
    "    oh_inst.output_dict['heating']['partition'] = 0.0\n",
    "    oh_inst.print_to_xml()\n",
    "    subprocess.call([os.path.join(os.environ['EXP_DIR'],'ebtelPlusPlus','bin','ebtel++.run'),\n",
    "                     '-c',oh_inst.output_filename])\n",
    "    temp = np.loadtxt(oh_inst.output_dict['output_filename'])\n",
    "    ti,Tie,Tii,ni = temp[:,0],temp[:,1],temp[:,2],temp[:,3]\n",
    "    #return dictionary\n",
    "    return {'t':t,'te':te,'ti':ti,'T':T,'Tee':Tee,'Tei':Tei,'Tie':Tie,'Tii':Tii,'n':n,'ne':ne,'ni':ni,\n",
    "           'heat_flux_option':flux_opt}"
   ]
  },
  {
   "cell_type": "markdown",
   "metadata": {},
   "source": [
    "Configure instances of the XML output handler for printing files."
   ]
  },
  {
   "cell_type": "code",
   "execution_count": 10,
   "metadata": {
    "collapsed": true
   },
   "outputs": [],
   "source": [
    "oh = OutputHandler(config_dict['output_filename']+'.xml',config_dict)"
   ]
  },
  {
   "cell_type": "markdown",
   "metadata": {},
   "source": [
    "Finally, run the model for varying pulse duration."
   ]
  },
  {
   "cell_type": "code",
   "execution_count": 11,
   "metadata": {
    "collapsed": false
   },
   "outputs": [],
   "source": [
    "tau_h = [20,40,200,500]\n",
    "tau_h_results = []\n",
    "for t in tau_h:\n",
    "    results = run_and_print(t,20.0/t,1.0,True,oh)\n",
    "    results['loop_length'] = config_dict['loop_length']\n",
    "    tau_h_results.append(results)"
   ]
  },
  {
   "cell_type": "markdown",
   "metadata": {},
   "source": [
    "And then run the models for varying flux-limiter, $f$."
   ]
  },
  {
   "cell_type": "code",
   "execution_count": 12,
   "metadata": {
    "collapsed": true
   },
   "outputs": [],
   "source": [
    "flux_lim = [{'f':1.0,'opt':True},{'f':0.53,'opt':True},{'f':1.0/6.0,'opt':True},{'f':0.1,'opt':True},\n",
    "            {'f':1.0/30.0,'opt':True},{'f':1.0,'opt':False}]\n",
    "flux_lim_results = []\n",
    "for i in range(len(flux_lim)):\n",
    "    results = run_and_print(200.0,0.1,flux_lim[i]['f'],flux_lim[i]['opt'],oh)\n",
    "    results['loop_length'] = config_dict['loop_length']\n",
    "    flux_lim_results.append(results)"
   ]
  },
  {
   "cell_type": "markdown",
   "metadata": {},
   "source": [
    "Save both data structures to serialized files."
   ]
  },
  {
   "cell_type": "code",
   "execution_count": 13,
   "metadata": {
    "collapsed": true
   },
   "outputs": [],
   "source": [
    "with open(__dest__[0],'wb') as f:\n",
    "    pickle.dump(tau_h_results,f)\n",
    "with open(__dest__[1],'wb') as f:\n",
    "    pickle.dump(flux_lim_results,f)"
   ]
  },
  {
   "cell_type": "code",
   "execution_count": 10,
   "metadata": {
    "collapsed": true
   },
   "outputs": [],
   "source": []
  }
 ],
 "metadata": {
  "anaconda-cloud": {},
  "kernelspec": {
   "display_name": "Python [default]",
   "language": "python",
   "name": "python3"
  },
  "language_info": {
   "codemirror_mode": {
    "name": "ipython",
    "version": 3
   },
   "file_extension": ".py",
   "mimetype": "text/x-python",
   "name": "python",
   "nbconvert_exporter": "python",
   "pygments_lexer": "ipython3",
   "version": "3.5.3"
  }
 },
 "nbformat": 4,
 "nbformat_minor": 0
}
