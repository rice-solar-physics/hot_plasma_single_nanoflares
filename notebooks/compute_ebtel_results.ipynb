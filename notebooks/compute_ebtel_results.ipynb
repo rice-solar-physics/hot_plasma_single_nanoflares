{
 "cells": [
  {
   "cell_type": "code",
   "execution_count": 19,
   "metadata": {
    "collapsed": true
   },
   "outputs": [],
   "source": [
    "__depends__=[]\n",
    "__dest__= [\"../results/ebtel_varying_tau_results.pickle\",\n",
    "           \"../results/ebtel_varying_flux_limiter_results.pickle\"\n",
    "          ]"
   ]
  },
  {
   "cell_type": "markdown",
   "metadata": {},
   "source": [
    "# Compute EBTEL Results\n",
    "Run the single- and two-fluid EBTEL models for a variety of inputs. This will be the basis for the rest of our analysis.\n",
    "\n",
    "First, import any needed modules."
   ]
  },
  {
   "cell_type": "code",
   "execution_count": 20,
   "metadata": {
    "collapsed": false
   },
   "outputs": [],
   "source": [
    "import sys\n",
    "import os\n",
    "import pickle\n",
    "\n",
    "import numpy as np\n",
    "\n",
    "sys.path.append(os.path.join(os.environ['EXP_DIR'],'EBTEL_analysis/src'))\n",
    "import ebtel_run as ebr\n",
    "import ebtel_configure as ebc"
   ]
  },
  {
   "cell_type": "markdown",
   "metadata": {},
   "source": [
    "Setup the base dictionary for all of the runs."
   ]
  },
  {
   "cell_type": "code",
   "execution_count": 21,
   "metadata": {
    "collapsed": true
   },
   "outputs": [],
   "source": [
    "config_dict = {'usage_option':'no_dem','rad_option':'rk','dem_option':'new','heat_flux_option':'classical',\n",
    "              'solver':'rka4','ic_mode':'st_eq','print_plasma_params':'True'}\n",
    "config_dict['total_time'] = 5000\n",
    "config_dict['tau'] = 0.1\n",
    "config_dict['rka_error'] = 1.0e-6\n",
    "config_dict['index_dem'] = 451\n",
    "config_dict['sat_limit'] = 1.0/6.0\n",
    "config_dict['h_back'] = 3.5e-5\n",
    "config_dict['heating_shape'] = 'triangle'\n",
    "config_dict['t_start_switch'] = 'uniform'\n",
    "config_dict['t_end_switch'] = 'uniform'\n",
    "config_dict['T0'] = 1.0e+6\n",
    "config_dict['n0'] = 1.0e+8\n",
    "config_dict['t_start'] = 0.0\n",
    "config_dict['mean_t_start'] = 1000\n",
    "config_dict['std_t_start'] = 1000\n",
    "config_dict['amp_switch'] = 'uniform'\n",
    "config_dict['amp0'] = 0.001\n",
    "config_dict['amp1'] = 0.01\n",
    "config_dict['alpha'] = 1.5\n",
    "config_dict['loop_length'] = 40.0\n",
    "config_dict['num_events'] = 1\n",
    "config_dict['t_pulse_half'] = 100\n",
    "config_dict['h_nano'] = 0.1\n",
    "config_dict['sample_rate'] = 1\n",
    "#variable c1 options\n",
    "config_dict['r3_cond_0'] = 6.0\n",
    "config_dict['r3_rad_0'] = 0.6\n",
    "config_dict['r3_loss_correction'] = 'True'\n",
    "config_dict['r3_grav_correction'] = 'True'\n",
    "#dummy output file configuration\n",
    "config_dict['output_file'] = '../results/_tmp_'"
   ]
  },
  {
   "cell_type": "markdown",
   "metadata": {},
   "source": [
    "Next, construct a function that will make it easy to run all of the different EBTEL configurations."
   ]
  },
  {
   "cell_type": "code",
   "execution_count": 22,
   "metadata": {
    "collapsed": true
   },
   "outputs": [],
   "source": [
    "def run_and_print(tau,h0,L,f,flux_opt,run_inst_sf,run_inst_tf,conf_inst):\n",
    "    #set params\n",
    "    conf_inst.config_dictionary['t_pulse_half'] = tau/2.0\n",
    "    conf_inst.config_dictionary['h_nano'] = h0\n",
    "    conf_inst.config_dictionary['loop_length'] = L\n",
    "    conf_inst.config_dictionary['sat_limit'] = f\n",
    "    conf_inst.config_dictionary['heat_flux_option'] = flux_opt\n",
    "    #print config file\n",
    "    conf_inst.print_xml_config(config_file=conf_inst.config_dictionary['output_file']+'.xml')\n",
    "    #single-fluid    \n",
    "    #run model\n",
    "    run_inst_sf.run_ebtel_single(conf_inst.config_dictionary['output_file']+'.xml',verbose=False)\n",
    "    #save parameters to list\n",
    "    temp = np.loadtxt(conf_inst.config_dictionary['output_file']+'.txt')\n",
    "    t,T,n,na = temp[:,0],temp[:,1],temp[:,2],temp[:,6]\n",
    "    #two-fluid\n",
    "    #--electron heating\n",
    "    conf_inst.config_dictionary['heat_species'] = 'electron'\n",
    "    conf_inst.print_xml_config(config_file=conf_inst.config_dictionary['output_file']+'.xml')\n",
    "    #run model\n",
    "    run_inst_tf.run_ebtel_single(conf_inst.config_dictionary['output_file']+'.xml',verbose=False)\n",
    "    #save parameters to list\n",
    "    temp = np.loadtxt(conf_inst.config_dictionary['output_file']+'.txt')\n",
    "    te,Tee,Tei,ne,nea = temp[:,0],temp[:,1],temp[:,2],temp[:,3],temp[:,9]\n",
    "    #--ion heating\n",
    "    #print config file\n",
    "    conf_inst.config_dictionary['heat_species'] = 'ion'\n",
    "    conf_inst.print_xml_config(config_file=conf_inst.config_dictionary['output_file']+'.xml')\n",
    "    #run model\n",
    "    run_inst_tf.run_ebtel_single(conf_inst.config_dictionary['output_file']+'.xml',verbose=False)\n",
    "    #save parameters to list\n",
    "    temp = np.loadtxt(conf_inst.config_dictionary['output_file']+'.txt')\n",
    "    ti,Tie,Tii,ni,nia = temp[:,0],temp[:,1],temp[:,2],temp[:,3],temp[:,9]\n",
    "    #return dictionary\n",
    "    return {'t':t,'te':te,'ti':ti,'T':T,'Tee':Tee,'Tei':Tei,'Tie':Tie,'Tii':Tii,'n':n,'ne':ne,'ni':ni,\n",
    "           'na':na,'nea':nea,'nia':nia,'loop_length':L*1.0e+8,'heat_flux_option':flux_opt}"
   ]
  },
  {
   "cell_type": "markdown",
   "metadata": {},
   "source": [
    "Configure instances of the single- and two-fluid runners and the instance to print the configuration files."
   ]
  },
  {
   "cell_type": "code",
   "execution_count": 23,
   "metadata": {
    "collapsed": true
   },
   "outputs": [],
   "source": [
    "runner_sf = ebr.Runner(os.path.join(os.environ['EXP_DIR'],'EBTEL_C/bin/'),'')\n",
    "runner_tf = ebr.Runner(os.path.join(os.environ['EXP_DIR'],'EBTEL-2fluid_repo/bin/'),'')\n",
    "configurer = ebc.Configurer(config_dict,'')"
   ]
  },
  {
   "cell_type": "markdown",
   "metadata": {},
   "source": [
    "Finally, run the model for varying pulse duration."
   ]
  },
  {
   "cell_type": "code",
   "execution_count": 24,
   "metadata": {
    "collapsed": false
   },
   "outputs": [],
   "source": [
    "tau_h = [20,40,200,500]\n",
    "tau_h_results = []\n",
    "for t in tau_h:\n",
    "    results = run_and_print(t,20.0/t,40.0,1.0,'limited',runner_sf,runner_tf,configurer)\n",
    "    tau_h_results.append(results)"
   ]
  },
  {
   "cell_type": "markdown",
   "metadata": {},
   "source": [
    "And then run the models for varying flux-limiter, $f$."
   ]
  },
  {
   "cell_type": "code",
   "execution_count": 25,
   "metadata": {
    "collapsed": true
   },
   "outputs": [],
   "source": [
    "flux_lim = [{'f':1.0,'opt':'limited','flab':r'$f=1$'},{'f':0.53,'opt':'limited','flab':r'$f=0.53$'},\n",
    "            {'f':1.0/6.0,'opt':'limited','flab':r'$f=1/6$'},{'f':0.1,'opt':'limited','flab':r'$f=0.1$'},\n",
    "            {'f':1.0/30.0,'opt':'limited','flab':r'$f=1/30$'},{'f':1.0,'opt':'classical','flab':r'$\\mathrm{Spitzer}$'}]\n",
    "flux_lim_results = []\n",
    "for i in range(len(flux_lim)):\n",
    "    results = run_and_print(200.0,0.1,40.0,flux_lim[i]['f'],flux_lim[i]['opt'],runner_sf,runner_tf,configurer)\n",
    "    flux_lim_results.append(results)"
   ]
  },
  {
   "cell_type": "markdown",
   "metadata": {},
   "source": [
    "Save both data structures to serialized files."
   ]
  },
  {
   "cell_type": "code",
   "execution_count": 26,
   "metadata": {
    "collapsed": true
   },
   "outputs": [],
   "source": [
    "with open(__dest__[0],'wb') as f:\n",
    "    pickle.dump(tau_h_results,f)\n",
    "with open(__dest__[1],'wb') as f:\n",
    "    pickle.dump(flux_lim_results,f)"
   ]
  },
  {
   "cell_type": "code",
   "execution_count": null,
   "metadata": {
    "collapsed": true
   },
   "outputs": [],
   "source": []
  }
 ],
 "metadata": {
  "kernelspec": {
   "display_name": "Python 2",
   "language": "python",
   "name": "python2"
  },
  "language_info": {
   "codemirror_mode": {
    "name": "ipython",
    "version": 2
   },
   "file_extension": ".py",
   "mimetype": "text/x-python",
   "name": "python",
   "nbconvert_exporter": "python",
   "pygments_lexer": "ipython2",
   "version": "2.7.11"
  }
 },
 "nbformat": 4,
 "nbformat_minor": 0
}
