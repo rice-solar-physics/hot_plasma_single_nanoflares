{
 "cells": [
  {
   "cell_type": "code",
   "execution_count": 1,
   "metadata": {
    "code_folding": [
     0
    ],
    "collapsed": false
   },
   "outputs": [
    {
     "name": "stderr",
     "output_type": "stream",
     "text": [
      "/opt/anaconda3/lib/python3.4/site-packages/matplotlib/__init__.py:1350: UserWarning:  This call to matplotlib.use() has no effect\n",
      "because the backend has already been chosen;\n",
      "matplotlib.use() must be called *before* pylab, matplotlib.pyplot,\n",
      "or matplotlib.backends is imported for the first time.\n",
      "\n",
      "  warnings.warn(_use_error_msg)\n"
     ]
    }
   ],
   "source": [
    "#import libraries\n",
    "import sys\n",
    "import os\n",
    "import numpy as np\n",
    "import seaborn.apionly as sns\n",
    "import astropy.constants as ac\n",
    "from astropy.table import Table,Column\n",
    "from astropy.io import ascii\n",
    "from matplotlib import ticker\n",
    "import matplotlib.pyplot as plt\n",
    "plt.style.use('papers')\n",
    "%matplotlib inline\n",
    "sys.path.append(os.path.join(os.environ['RESEARCH_DIR'],'EBTEL_analysis/src/'))\n",
    "sys.path.append(os.path.join(os.environ['RESEARCH_DIR'],'hercules/hercules/'))\n",
    "import ebtel_run as ebr\n",
    "import ebtel_configure as ebc\n",
    "import ebtel_plot as ebp\n",
    "import quick_look "
   ]
  },
  {
   "cell_type": "markdown",
   "metadata": {},
   "source": [
    "# Hot Plasma Paper 1–Figures, Appendix\n",
    "Here, we'll build the figure(s) needed for Hot Plasma Paper 1 Appendices. \n",
    "\n",
    "* Appendix A: Details on prescription of $c_1$ corrections\n",
    "* Appendix B: Derivation of two-fluid equations"
   ]
  },
  {
   "cell_type": "code",
   "execution_count": 2,
   "metadata": {
    "code_folding": [],
    "collapsed": true
   },
   "outputs": [],
   "source": [
    "#input dictionary\n",
    "config_dict = {'usage_option':'no_dem','rad_option':'rk','dem_option':'new','heat_flux_option':'limited',\n",
    "              'solver':'rka4','ic_mode':'st_eq','print_plasma_params':'True','heat_species':'electron'}\n",
    "config_dict['total_time'] = 5000\n",
    "config_dict['tau'] = 0.1\n",
    "config_dict['rka_error'] = 1.0e-5\n",
    "config_dict['index_dem'] = 451\n",
    "config_dict['sat_limit'] = 1.0\n",
    "config_dict['h_back'] = 3.5e-5\n",
    "config_dict['heating_shape'] = 'triangle'\n",
    "config_dict['t_start_switch'] = 'uniform'\n",
    "config_dict['t_end_switch'] = 'uniform'\n",
    "config_dict['T0'] = 1.0e+6\n",
    "config_dict['n0'] = 1.0e+8\n",
    "config_dict['t_start'] = 0.0\n",
    "config_dict['mean_t_start'] = 1000\n",
    "config_dict['std_t_start'] = 1000\n",
    "config_dict['amp_switch'] = 'uniform'\n",
    "config_dict['amp0'] = 0.001\n",
    "config_dict['amp1'] = 0.01\n",
    "config_dict['alpha'] = 1.5\n",
    "config_dict['loop_length'] = 40.0\n",
    "config_dict['num_events'] = 1\n",
    "config_dict['sample_rate'] = 1\n",
    "#variable c1 options\n",
    "config_dict['r3_rad_0'] = 0.6\n",
    "config_dict['r3_cond_0'] = 6.0"
   ]
  },
  {
   "cell_type": "markdown",
   "metadata": {},
   "source": [
    "## Appendix A\n",
    "Show $n(t)$ for the following cases:\n",
    "\n",
    " + constant values of 2 and 4 (dotted, black)\n",
    " + uncorrected from 2 to 0.6 (blue, dashed)\n",
    " + uncorrected from 2 to 4 to 0.6 (red, dashed)\n",
    " + corrected from 2 to 0.6 (blue, solid)\n",
    " + corrected from 2 to 4 to 0.6 (red, solid)\n",
    " \n",
    "Use the single-fluid, $\\tau=500$ s case as an example."
   ]
  },
  {
   "cell_type": "code",
   "execution_count": 3,
   "metadata": {
    "collapsed": true
   },
   "outputs": [],
   "source": [
    "config_dict['t_pulse_half'] = 250\n",
    "config_dict['h_nano'] = 0.04\n",
    "config_dict['output_file'] = os.path.join(os.environ['RESEARCH_DIR'],'research_notebook/figure_builders/hp1_paper_data/appendix_a')"
   ]
  },
  {
   "cell_type": "markdown",
   "metadata": {},
   "source": [
    "Configure the cases."
   ]
  },
  {
   "cell_type": "code",
   "execution_count": 4,
   "metadata": {
    "collapsed": true
   },
   "outputs": [],
   "source": [
    "appendix_a_cases = [\n",
    "    {'color':sns.color_palette('deep')[0],'style':'solid','label':r'$c_{1,cond}=2$','lc':'True','gc':'True','c1_cond':2.0},\n",
    "    {'color':sns.color_palette('deep')[0],'style':'dashed','label':r'$c_{1,cond}=2,\\,\\,\\mathrm{uncorrected}$','lc':'False','gc':'False','c1_cond':2.0},\n",
    "    {'color':sns.color_palette('deep')[2],'style':'solid','label':r'$c_{1,cond}=6$','lc':'True','gc':'True','c1_cond':6.0},\n",
    "    {'color':sns.color_palette('deep')[2],'style':'dashed','label':r'$c_{1,cond}=6,\\,\\,\\mathrm{uncorrected}$','lc':'False','gc':'False','c1_cond':6.0}\n",
    "]"
   ]
  },
  {
   "cell_type": "markdown",
   "metadata": {},
   "source": [
    "Run all of the different cases and save the results."
   ]
  },
  {
   "cell_type": "code",
   "execution_count": 5,
   "metadata": {
    "collapsed": false
   },
   "outputs": [],
   "source": [
    "runner = ebr.Runner(os.path.join(os.environ['RESEARCH_DIR'],'EBTEL_C/bin/'),'')\n",
    "configurer = ebc.Configurer(config_dict,'')"
   ]
  },
  {
   "cell_type": "code",
   "execution_count": 6,
   "metadata": {
    "code_folding": [
     0
    ],
    "collapsed": false
   },
   "outputs": [],
   "source": [
    "#run the model\n",
    "results = []\n",
    "for case in appendix_a_cases:\n",
    "    configurer.config_dictionary['r3_loss_correction'] = case['lc']\n",
    "    configurer.config_dictionary['r3_grav_correction'] = case['gc']\n",
    "    configurer.config_dictionary['r3_cond_0'] = case['c1_cond']\n",
    "    configurer.print_xml_config(config_file=config_dict['output_file']+'.xml')\n",
    "    runner.run_ebtel_single(config_dict['output_file']+'.xml')\n",
    "    data = np.loadtxt(config_dict['output_file']+'.txt')\n",
    "    results.append({'t':data[:,0],'n':data[:,2],'c1':data[:,-3]})"
   ]
  },
  {
   "cell_type": "markdown",
   "metadata": {},
   "source": [
    "Get the HYDRAD data for a comparison."
   ]
  },
  {
   "cell_type": "code",
   "execution_count": 7,
   "metadata": {
    "collapsed": true
   },
   "outputs": [],
   "source": [
    "ql = quick_look.QuickViewer('/data/datadrive2/HYDRAD_runs/hp1_hydrad_runs/single/HYDRAD_500/Results/')"
   ]
  },
  {
   "cell_type": "code",
   "execution_count": 8,
   "metadata": {
    "collapsed": false
   },
   "outputs": [],
   "source": [
    "ql.load_results()\n",
    "ql.make_timeseries(lower_percent=0.4,upper_percent=0.4)"
   ]
  },
  {
   "cell_type": "markdown",
   "metadata": {},
   "source": [
    "Plot all of the different cases. This plot is no longer included in the appendix of this paper."
   ]
  },
  {
   "cell_type": "code",
   "execution_count": 9,
   "metadata": {
    "code_folding": [
     0
    ],
    "collapsed": false
   },
   "outputs": [
    {
     "data": {
      "text/plain": [
       "<matplotlib.legend.Legend at 0x7fe970057828>"
      ]
     },
     "execution_count": 9,
     "metadata": {},
     "output_type": "execute_result"
    },
    {
     "data": {
      "image/png": "[encoded data removed]",
      "text/plain": [
       "<matplotlib.figure.Figure at 0x7fe970249898>"
      ]
     },
     "metadata": {},
     "output_type": "display_data"
    }
   ],
   "source": [
    "#Build the figure\n",
    "fig,ax = plt.subplots(1,2,figsize=(16,5),sharex=True)\n",
    "for case,res in zip(appendix_a_cases,results):\n",
    "    ax[0].plot(res['t'],res['c1'],color=case['color'],label=case['label'],linestyle=case['style'])\n",
    "    ax[1].plot(res['t'],res['n']/1e+8,color=case['color'],label=case['label'],linestyle=case['style'])\n",
    "ax[1].plot(ql.time,ql.timeseries['ne']/1e+8,linestyle='solid',color='black',label=r'$\\mathrm{HYDRAD}$')\n",
    "ax[0].axhline(y=2.0,color='black',linestyle='dotted')\n",
    "ax[0].axhline(y=6.0,color='black',linestyle='dotted')\n",
    "ax[0].set_xscale('log')\n",
    "ax[0].set_xlim([0,5000])\n",
    "ax[1].set_ylim([0,50])\n",
    "ax[0].set_xlabel(r'$t\\,\\,(\\mathrm{s})$')\n",
    "ax[1].set_xlabel(r'$t\\,\\,(\\mathrm{s})$')\n",
    "ax[0].set_ylabel(r'$c_1$')\n",
    "ax[1].set_ylabel(r'$n\\,\\,(10^8\\,\\mathrm{cm}^{-3})$')\n",
    "ax[1].legend(loc=2)\n",
    "#plt.tight_layout()\n",
    "#plt.savefig('/home/wtb2/Documents/papers/hot_non-flaring_plasma_1/figures/f8.eps',format='eps',dpi=1000)\n",
    "#plt.show()"
   ]
  },
  {
   "cell_type": "markdown",
   "metadata": {},
   "source": [
    "Now, we also want to build a table that compares HYDRAD and the old EBTEL results (i.e. $c_{1,cond}=c_{1,eqm}$) with these new corrected results. We will use the four cases from the present paper in addition to the four cases investigated in Cargill (2012a). Only the single-fluid case will be considered.\n",
    "\n",
    "Construct the headers."
   ]
  },
  {
   "cell_type": "code",
   "execution_count": 10,
   "metadata": {
    "code_folding": [],
    "collapsed": true
   },
   "outputs": [],
   "source": [
    "headers = ['$2L$','$\\\\tau$','$H_0$',\n",
    "           '$n_{max}$, HYDRAD','$n_{max}$, EBTEL',\n",
    "           '$n_{max}$, EBTEL (Eq. \\\\ref{eq:c1_mod})']\n",
    "units = ['(Mm)','(s)','(erg cm$^{-3}$ s$^{-1}$)','($10^8$ cm$^{-3}$)','($10^8$ cm$^{-3}$)','($10^8$ cm$^{-3}$)']"
   ]
  },
  {
   "cell_type": "markdown",
   "metadata": {},
   "source": [
    "Build all of the cases. These are: \n",
    "\n",
    "* ~~$\\tau=20$ s from current paper~~\n",
    "* ~~$\\tau=40$ s from current paper~~\n",
    "* $\\tau=200$ s from current paper\n",
    "* $\\tau=500$ s from current paper\n",
    "* Case 1 from Cargill et al. (2012a)\n",
    "* Case 2 from Cargill et al. (2012a)\n",
    "* Case 3 from Cargill et al. (2012a)\n",
    "* Case 4 from Cargill et al. (2012a)\n",
    "* Group 6 from Bradshaw and Cargill (2013) (?)\n",
    "* Group 11 from Bradshaw and Cargill (2013) (?)"
   ]
  },
  {
   "cell_type": "code",
   "execution_count": 11,
   "metadata": {
    "code_folding": [],
    "collapsed": false
   },
   "outputs": [],
   "source": [
    "#Configure the cases\n",
    "appendix_a_table_cases = [\n",
    "    {'hydrad_nmax':37.6,'total_time':5e+3,'loop_length':40.0,'t_pulse_half':100,'h_nano':0.1,'h_back':3.5e-5},\n",
    "    {'hydrad_nmax':37.7,'total_time':5e+3,'loop_length':40.0,'t_pulse_half':250,'h_nano':0.04,'h_back':3.5e-5},\n",
    "    {'hydrad_nmax':3.7,'total_time':1e+4,'loop_length':75.0,'h_nano':1.5e-3,'t_pulse_half':250.0,'h_back':2.95e-6},\n",
    "    {'hydrad_nmax':10.7,'total_time':6e+3,'loop_length':25.0,'h_nano':1e-2,'t_pulse_half':100.0,'h_back':3.19e-5},\n",
    "    {'hydrad_nmax':339,'total_time':2e+3,'loop_length':25.0,'h_nano':2.0,'t_pulse_half':100.0,'h_back':1.29e-3},\n",
    "    {'hydrad_nmax':15.5,'total_time':2e+3,'loop_length':25.0,'h_nano':1e-2,'t_pulse_half':100.0,'h_back':4.45e-4},\n",
    "    {'hydrad_nmax':350.0,'total_time':2e3,'loop_length':20.0,'h_nano':0.8,'t_pulse_half':300.0,'h_back':3.19e-5},\n",
    "    {'hydrad_nmax':10.0,'total_time':5e3,'loop_length':80.0,'h_nano':0.005,'t_pulse_half':300.0,'h_back':3.19e-5}\n",
    "]"
   ]
  },
  {
   "cell_type": "markdown",
   "metadata": {},
   "source": [
    "Do all of the runs and build the table."
   ]
  },
  {
   "cell_type": "code",
   "execution_count": 12,
   "metadata": {
    "code_folding": [],
    "collapsed": false
   },
   "outputs": [],
   "source": [
    "#Run the model and build the table\n",
    "table_data = []\n",
    "#set up dictionary class\n",
    "configurer = ebc.Configurer(config_dict,'')\n",
    "config_dict['output_file'] = os.path.join(os.environ['RESEARCH_DIR'],'research_notebook/figure_builders/hp1_paper_data/appendix_a')\n",
    "configurer.config_dictionary['r3_grav_correction'] = 'True'\n",
    "configurer.config_dictionary['r3_loss_correction'] = 'True'\n",
    "for t_case in appendix_a_table_cases:\n",
    "    table_row = []\n",
    "    #configure main options\n",
    "    configurer.config_dictionary['total_time'] = t_case['total_time']\n",
    "    configurer.config_dictionary['loop_length'] = t_case['loop_length']\n",
    "    configurer.config_dictionary['t_pulse_half'] = t_case['t_pulse_half']\n",
    "    configurer.config_dictionary['h_nano'] = t_case['h_nano']\n",
    "    configurer.config_dictionary['h_back'] = t_case['h_back']\n",
    "    #run w/o correction\n",
    "    configurer.config_dictionary['r3_cond_0'] = 2.0\n",
    "    configurer.print_xml_config(config_file=config_dict['output_file']+'.xml')\n",
    "    runner.run_ebtel_single(config_dict['output_file']+'.xml')\n",
    "    nmax_uc = np.max(np.loadtxt(config_dict['output_file']+'.txt')[:,2])/1e+8\n",
    "    #run w/ correction\n",
    "    configurer.config_dictionary['r3_cond_0'] = 6.0\n",
    "    configurer.print_xml_config(config_file=config_dict['output_file']+'.xml')\n",
    "    runner.run_ebtel_single(config_dict['output_file']+'.xml')\n",
    "    nmax_c = np.max(np.loadtxt(config_dict['output_file']+'.txt')[:,2])/1e+8\n",
    "    #set table entries\n",
    "    table_row = [\n",
    "        2*t_case['loop_length'],\n",
    "        2*t_case['t_pulse_half'],\n",
    "        t_case['h_nano'],\n",
    "        t_case['hydrad_nmax'],\n",
    "        nmax_uc,\n",
    "        nmax_c\n",
    "    ]\n",
    "    #save to table\n",
    "    table_data.append(table_row)"
   ]
  },
  {
   "cell_type": "markdown",
   "metadata": {},
   "source": [
    "Try formatting the table with astropy for better LaTeX printing."
   ]
  },
  {
   "cell_type": "code",
   "execution_count": 13,
   "metadata": {
    "collapsed": true
   },
   "outputs": [],
   "source": [
    "col_table = []\n",
    "for i in range(len(headers)):\n",
    "    temp_col = [t[i] for t in table_data]\n",
    "    col_table.append(temp_col)"
   ]
  },
  {
   "cell_type": "code",
   "execution_count": 14,
   "metadata": {
    "collapsed": true
   },
   "outputs": [],
   "source": [
    "aas_table = Table(col_table,names=headers)"
   ]
  },
  {
   "cell_type": "code",
   "execution_count": 15,
   "metadata": {
    "collapsed": false
   },
   "outputs": [
    {
     "data": {
      "text/html": [
       "&lt;Table length=8&gt;\n",
       "<table id=\"table140640539024744\">\n",
       "<thead><tr><th>$2L$</th><th>$\\tau$</th><th>$H_0$</th><th>$n_{max}$, HYDRAD</th><th>$n_{max}$, EBTEL</th><th>$n_{max}$, EBTEL (Eq. \\ref{eq:c1_mod})</th></tr></thead>\n",
       "<thead><tr><th>float64</th><th>float64</th><th>float64</th><th>float64</th><th>float64</th><th>float64</th></tr></thead>\n",
       "<tr><td>80.0</td><td>200.0</td><td>0.1</td><td>37.6</td><td>44.20859</td><td>39.55749</td></tr>\n",
       "<tr><td>80.0</td><td>500.0</td><td>0.04</td><td>37.7</td><td>44.05088</td><td>39.31924</td></tr>\n",
       "<tr><td>150.0</td><td>500.0</td><td>0.0015</td><td>3.7</td><td>3.808878</td><td>3.42007</td></tr>\n",
       "<tr><td>50.0</td><td>200.0</td><td>0.01</td><td>10.7</td><td>11.32344</td><td>10.13977</td></tr>\n",
       "<tr><td>50.0</td><td>200.0</td><td>2.0</td><td>339.0</td><td>391.7542</td><td>351.0396</td></tr>\n",
       "<tr><td>50.0</td><td>200.0</td><td>0.01</td><td>15.5</td><td>16.33525</td><td>14.33859</td></tr>\n",
       "<tr><td>40.0</td><td>600.0</td><td>0.8</td><td>350.0</td><td>452.9402</td><td>390.954</td></tr>\n",
       "<tr><td>160.0</td><td>600.0</td><td>0.005</td><td>10.0</td><td>10.21029</td><td>9.095729</td></tr>\n",
       "</table>"
      ],
      "text/plain": [
       "<Table length=8>\n",
       "  $2L$   $\\tau$ ... $n_{max}$, EBTEL $n_{max}$, EBTEL (Eq. \\ref{eq:c1_mod})\n",
       "float64 float64 ...     float64                     float64                \n",
       "------- ------- ... ---------------- --------------------------------------\n",
       "   80.0   200.0 ...         44.20859                               39.55749\n",
       "   80.0   500.0 ...         44.05088                               39.31924\n",
       "  150.0   500.0 ...         3.808878                                3.42007\n",
       "   50.0   200.0 ...         11.32344                               10.13977\n",
       "   50.0   200.0 ...         391.7542                               351.0396\n",
       "   50.0   200.0 ...         16.33525                               14.33859\n",
       "   40.0   600.0 ...         452.9402                                390.954\n",
       "  160.0   600.0 ...         10.21029                               9.095729"
      ]
     },
     "execution_count": 15,
     "metadata": {},
     "output_type": "execute_result"
    }
   ],
   "source": [
    "aas_table"
   ]
  },
  {
   "cell_type": "markdown",
   "metadata": {},
   "source": [
    "Write table as an AASTeX deluxetable object."
   ]
  },
  {
   "cell_type": "markdown",
   "metadata": {},
   "source": [
    "Set up the formatting for each column."
   ]
  },
  {
   "cell_type": "code",
   "execution_count": 16,
   "metadata": {
    "collapsed": true
   },
   "outputs": [],
   "source": [
    "formats={}\n",
    "for h,i in zip(headers,range(len(headers))):\n",
    "    if i==2:\n",
    "        formats[h] = '%.2g'\n",
    "    elif i<2:\n",
    "        formats[h] = '%.0f'\n",
    "    else:\n",
    "        formats[h] = '%.1f'"
   ]
  },
  {
   "cell_type": "markdown",
   "metadata": {},
   "source": [
    "Give it a caption."
   ]
  },
  {
   "cell_type": "code",
   "execution_count": 18,
   "metadata": {
    "collapsed": true
   },
   "outputs": [],
   "source": [
    "caption = r'''Comparison between HYDRAD and EBTEL with $c_1=2$ and $c_1$ given by \\autoref{eq:c1_mod}, for $n<n_{eq}$.\n",
    "The first three columns show the full loop length, heating pulse duration, and maximum heating rate.\n",
    "The last three columns show $n_{max}$ for the three models.\n",
    "Only $n_{max}$ is shown as $T_{max}$ is relatively insensitive to the value of $c_1$. \n",
    "The first two rows correspond to the $\\tau=200,500$ s cases considered in this paper. \n",
    "The next four rows are the four cases shown in Table 2 of \\citet{cargill_enthalpy-based_2012}. \n",
    "The last two rows are cases 6 and 11 from Table 1 of \\citet{bradshaw_influence_2013}.\n",
    "'''"
   ]
  },
  {
   "cell_type": "markdown",
   "metadata": {},
   "source": [
    "Write the table to disk."
   ]
  },
  {
   "cell_type": "code",
   "execution_count": 19,
   "metadata": {
    "code_folding": [],
    "collapsed": false
   },
   "outputs": [],
   "source": [
    "ascii.write(aas_table,output=os.path.join(os.environ['RESEARCH_DIR'],'papers','hot_non-flaring_plasma_1','tables',\n",
    "                                         'table_a1.tex'),\n",
    "            format='aastex',formats=formats,\n",
    "            caption=caption,latexdict={'units':{h:u for h,u in zip(headers,units)},\n",
    "                     'tablefoot':r'\\label{tab:table_c1_compare}'})"
   ]
  },
  {
   "cell_type": "markdown",
   "metadata": {},
   "source": [
    "## Appendix B\n",
    "The first figure will show the relative importance of $\\psi_{TR}$ in the EBTEL two-fluid equations. Consider the equation,\n",
    "$$\n",
    "\\frac{L}{\\gamma - 1}\\frac{dp_e}{dt} = \\psi_{TR} - (\\mathcal{R}_C + \\mathcal{R}_{TR}) + \\frac{L}{\\gamma - 1}k_Bn\\nu_{ei}(T_i - T_e) + LQ_e.\n",
    "$$\n",
    "We want to plot each term as a function of time to show their relative contributions to the evolution of the electron energy.\n",
    "\n",
    "We will use the following parameters for our sample run:\n",
    "\n",
    "+ $L=40$ Mm\n",
    "+ $\\tau=200$ s\n",
    "+ $H_0=0.1$ erg cm$^{-3}$ s$^{-1}$\n",
    "+ Spitzer conduction"
   ]
  },
  {
   "cell_type": "markdown",
   "metadata": {},
   "source": [
    "Write function to calculate electron-ion heating frequency."
   ]
  },
  {
   "cell_type": "code",
   "execution_count": 20,
   "metadata": {
    "collapsed": true
   },
   "outputs": [],
   "source": [
    "def calc_nu_ei(n,Te):\n",
    "    c1 = 16.*np.sqrt(np.pi)/3.\n",
    "    c2 = ac.e.gauss.value**4/(ac.m_e.cgs.value*ac.m_p.cgs.value)\n",
    "    c3 = 2.*ac.k_B.cgs.value*Te/ac.m_e.cgs.value\n",
    "    colLog = 20.\n",
    "    return c1*c2*c3**(-3./2.)*n*colLog"
   ]
  },
  {
   "cell_type": "markdown",
   "metadata": {},
   "source": [
    "Configure dictionary to run EBTEL-2fluid model."
   ]
  },
  {
   "cell_type": "code",
   "execution_count": 21,
   "metadata": {
    "collapsed": true
   },
   "outputs": [],
   "source": [
    "#configure input options\n",
    "config_dict['h_back'] = 3.5e-5\n",
    "config_dict['loop_length'] = 40.0\n",
    "config_dict['total_time'] = 5000\n",
    "config_dict['t_pulse_half'] = 100\n",
    "config_dict['h_nano'] = 0.1\n",
    "#variable c1 options\n",
    "config_dict['r3_rad_0'] = 0.6\n",
    "config_dict['r3_cond_0'] = 6.0\n",
    "config_dict['r3_loss_correction'] = 'True'\n",
    "config_dict['r3_grav_correction'] = 'True'\n",
    "config_dict['r3_sound_speed_correction'] = 'True'\n",
    "config_dict['output_file'] = os.path.join(os.environ['RESEARCH_DIR'],'research_notebook/figure_builders/hp1_paper_data/appendix_b')"
   ]
  },
  {
   "cell_type": "code",
   "execution_count": 22,
   "metadata": {
    "collapsed": false
   },
   "outputs": [],
   "source": [
    "configurer = ebc.Configurer(config_dict,'')"
   ]
  },
  {
   "cell_type": "code",
   "execution_count": 23,
   "metadata": {
    "collapsed": true
   },
   "outputs": [],
   "source": [
    "configurer.print_xml_config(config_file=config_dict['output_file']+'.xml')"
   ]
  },
  {
   "cell_type": "markdown",
   "metadata": {},
   "source": [
    "Now, run the two-fluid EBTEL code with this configuration."
   ]
  },
  {
   "cell_type": "code",
   "execution_count": 24,
   "metadata": {
    "collapsed": true
   },
   "outputs": [],
   "source": [
    "runner = ebr.Runner(os.path.join(os.environ['RESEARCH_DIR'],'EBTEL-2fluid_repo/bin/'),'')"
   ]
  },
  {
   "cell_type": "code",
   "execution_count": 25,
   "metadata": {
    "collapsed": false
   },
   "outputs": [],
   "source": [
    "runner.run_ebtel_single(config_dict['output_file']+'.xml')"
   ]
  },
  {
   "cell_type": "markdown",
   "metadata": {},
   "source": [
    "Next, load the data and plot."
   ]
  },
  {
   "cell_type": "code",
   "execution_count": 26,
   "metadata": {
    "collapsed": true
   },
   "outputs": [],
   "source": [
    "data = np.loadtxt(config_dict['output_file']+'.txt')\n",
    "t = data[:,0]\n",
    "Te = data[:,1]\n",
    "Ti = data[:,2]\n",
    "n = data[:,3]\n",
    "fce = data[:,12]\n",
    "fci = data[:,13]\n",
    "q = data[:,15]\n",
    "rad = data[:,-2]\n",
    "r3 = data[:,-3]"
   ]
  },
  {
   "cell_type": "markdown",
   "metadata": {},
   "source": [
    "Calculate the relevant quantities."
   ]
  },
  {
   "cell_type": "code",
   "execution_count": 27,
   "metadata": {
    "collapsed": true
   },
   "outputs": [],
   "source": [
    "delta_terms = []\n",
    "delta_terms.append(fce/(config_dict['loop_length']*1.e+8)/(1.+Te/Ti))\n",
    "delta_terms.append(-fci/(config_dict['loop_length']*1.e+8)*(Te/Ti)/(1.+Te/Ti))\n",
    "delta_terms.append(-(Te/Ti*(r3+1.) + 1.)/(1.+Te/Ti)*n**2*rad)\n",
    "#delta_terms.append(q)\n",
    "tmp = np.zeros(len(Te))\n",
    "for i in range(len(Te)):\n",
    "    tmp[i] = ac.k_B.cgs.value/(5./3. - 1.)*n[i]*calc_nu_ei(n[i],Te[i])*(Ti[i] - Te[i])\n",
    "delta_terms.append(tmp)"
   ]
  },
  {
   "cell_type": "code",
   "execution_count": 28,
   "metadata": {
    "code_folding": [],
    "collapsed": false,
    "scrolled": true
   },
   "outputs": [
    {
     "data": {
      "image/png": "[encoded data removed]",
      "text/plain": [
       "<matplotlib.figure.Figure at 0x7fe96d1af278>"
      ]
     },
     "metadata": {},
     "output_type": "display_data"
    }
   ],
   "source": [
    "#Build the figure\n",
    "labels = [r'$\\mathrm{e}^{-}$ $\\mathrm{thermal}$ $\\mathrm{conduction}$',\n",
    "          r'$\\mathrm{ion}$ $\\mathrm{thermal}$ $\\mathrm{conduction}$',\n",
    "          r'$\\mathrm{radiation}$',r'$\\mathrm{equilibration}$']\n",
    "fig = plt.figure(figsize=(8,5))\n",
    "ax = fig.gca()\n",
    "#axT = ax.twinx()\n",
    "for i in range(len(delta_terms)):\n",
    "        ax.plot(t,delta_terms[i],color=sns.color_palette('deep')[i],label=labels[i])\n",
    "ax.plot(t,1.0/(config_dict['loop_length']*1.e+8)*1./(1.+Te/Ti)*(fce + (r3*(config_dict['loop_length']*1.e+8)*(n**2)*rad)-Te/Ti*fci),\n",
    "       linestyle='dotted',color='k',label=r'$\\psi_{TR}$')\n",
    "#axT.plot(t,Te/1e+6,linestyle='dashed',color='k')\n",
    "ax.set_xscale('log')\n",
    "ax.yaxis.set_major_locator(ticker.MaxNLocator(nbins=4))\n",
    "#ax.set_yscale('log')\n",
    "ax.set_xlim([1,config_dict['total_time']])\n",
    "ax.set_xlabel(r'$t$ $\\mathrm{(s)}$')\n",
    "ax.set_ylabel(r'$\\Delta\\bar{E}_e$ $(\\mathrm{erg}$ $\\mathrm{cm}^{-3}$ $\\mathrm{s}^{-1})$')\n",
    "box = ax.get_position()\n",
    "#ax.set_position([box.x0, box.y0, box.width * 0.95, box.height])\n",
    "ax.legend(loc='best')\n",
    "plt.savefig('/home/wtb2/Documents/papers/hot_non-flaring_plasma_1/figures/f8.eps',format='eps',dpi=1000)\n",
    "plt.show()"
   ]
  },
  {
   "cell_type": "code",
   "execution_count": null,
   "metadata": {
    "collapsed": true
   },
   "outputs": [],
   "source": []
  }
 ],
 "metadata": {
  "kernelspec": {
   "display_name": "Python 3",
   "language": "python",
   "name": "python3"
  },
  "language_info": {
   "codemirror_mode": {
    "name": "ipython",
    "version": 3
   },
   "file_extension": ".py",
   "mimetype": "text/x-python",
   "name": "python",
   "nbconvert_exporter": "python",
   "pygments_lexer": "ipython3",
   "version": "3.4.4"
  }
 },
 "nbformat": 4,
 "nbformat_minor": 0
}
