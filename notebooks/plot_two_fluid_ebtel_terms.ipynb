{
 "cells": [
  {
   "cell_type": "code",
   "execution_count": 1,
   "metadata": {
    "collapsed": true
   },
   "outputs": [],
   "source": [
    "__depends__=[]\n",
    "__dest__=\"../results/f8.eps\""
   ]
  },
  {
   "cell_type": "markdown",
   "metadata": {},
   "source": [
    "# Plot Terms in the Two-fluid EBTEL Equations\n",
    "As part of our derivation of the two-fluid EBTEL equations, we'll plot the different terms of the two-fluid electron energy equation,\n",
    "$$\n",
    "\\frac{L}{\\gamma - 1}\\frac{dp_e}{dt} = \\psi_{TR} - (\\mathcal{R}_C + \\mathcal{R}_{TR}) + \\frac{L}{\\gamma - 1}k_Bn\\nu_{ei}(T_i - T_e) + LQ_e.\n",
    "$$\n",
    "We want to plot each term as a function of time to show their relative contributions to the evolution of the electron energy."
   ]
  },
  {
   "cell_type": "code",
   "execution_count": 2,
   "metadata": {
    "collapsed": true
   },
   "outputs": [],
   "source": [
    "import sys\n",
    "import os\n",
    "import subprocess\n",
    "\n",
    "import numpy as np\n",
    "import seaborn.apionly as sns\n",
    "import astropy.constants as const\n",
    "from matplotlib import ticker\n",
    "import matplotlib.pyplot as plt\n",
    "\n",
    "sys.path.append(os.path.join(os.environ['EXP_DIR'],'ebtelPlusPlus/rsp_toolkit/python'))\n",
    "from xml_io import InputHandler,OutputHandler\n",
    "\n",
    "%matplotlib inline"
   ]
  },
  {
   "cell_type": "code",
   "execution_count": 3,
   "metadata": {
    "collapsed": true
   },
   "outputs": [],
   "source": [
    "plt.rcParams.update({'figure.figsize' : [8,5]})"
   ]
  },
  {
   "cell_type": "markdown",
   "metadata": {},
   "source": [
    "Configure the EBTEL run. We'll use $\\tau=200$ s and $H_0=0.1$ erg cm$^{-3}$ s$^{-1}$, $L=40$ Mm, and Spitzer conduction."
   ]
  },
  {
   "cell_type": "code",
   "execution_count": 4,
   "metadata": {
    "collapsed": true
   },
   "outputs": [],
   "source": [
    "ih = InputHandler(os.path.join(os.environ['EXP_DIR'],'ebtelPlusPlus','config','ebtel.example.cfg.xml'))\n",
    "config_dict = ih.lookup_vars()"
   ]
  },
  {
   "cell_type": "code",
   "execution_count": 5,
   "metadata": {
    "collapsed": true
   },
   "outputs": [],
   "source": [
    "config_dict['calculate_dem'] = False\n",
    "config_dict['save_terms'] = True\n",
    "config_dict['use_flux_limiting'] = True\n",
    "config_dict['use_adaptive_solver'] = True\n",
    "config_dict['heating']['partition'] = 1.0\n",
    "config_dict['heating']['background'] = 3.5e-5\n",
    "config_dict['heating']['events'] = [\n",
    "    {'event':{'magnitude':0.1,'rise_start':0.0,'rise_end':100.0,'decay_start':100.0,'decay_end':200.0}}\n",
    "]\n",
    "config_dict['total_time'] = 5000.0\n",
    "config_dict['tau'] = 0.1\n",
    "config_dict['adaptive_solver_error'] = 1.0e-9\n",
    "config_dict['saturation_limit'] = 1.0\n",
    "config_dict['c1_cond0'] = 6.0\n",
    "config_dict['c1_rad0'] = 0.6\n",
    "config_dict['use_c1_grav_correction'] = True\n",
    "config_dict['use_c1_loss_correction'] = True\n",
    "config_dict['output_filename'] = '../results/_tmp_'"
   ]
  },
  {
   "cell_type": "code",
   "execution_count": 6,
   "metadata": {
    "collapsed": true
   },
   "outputs": [],
   "source": [
    "oh = OutputHandler(config_dict['output_filename']+'.xml',config_dict)\n",
    "oh.print_to_xml()"
   ]
  },
  {
   "cell_type": "markdown",
   "metadata": {},
   "source": [
    "Run the model."
   ]
  },
  {
   "cell_type": "code",
   "execution_count": 7,
   "metadata": {
    "collapsed": false
   },
   "outputs": [
    {
     "data": {
      "text/plain": [
       "0"
      ]
     },
     "execution_count": 7,
     "metadata": {},
     "output_type": "execute_result"
    }
   ],
   "source": [
    "subprocess.call([os.path.join(os.environ['EXP_DIR'],'ebtelPlusPlus','bin','ebtel++.run'),'-c',oh.output_filename])"
   ]
  },
  {
   "cell_type": "markdown",
   "metadata": {},
   "source": [
    "Load the data."
   ]
  },
  {
   "cell_type": "code",
   "execution_count": 8,
   "metadata": {
    "collapsed": true
   },
   "outputs": [],
   "source": [
    "data = np.loadtxt(oh.output_dict['output_filename'])\n",
    "t = data[:,0]\n",
    "Te = data[:,1]\n",
    "Ti = data[:,2]\n",
    "n = data[:,3]\n",
    "q = data[:,-1]\n",
    "data = np.loadtxt(oh.output_dict['output_filename']+'.terms')\n",
    "fce = data[:,0]\n",
    "fci = data[:,1]\n",
    "r3 = data[:,2]\n",
    "rad = data[:,3]"
   ]
  },
  {
   "cell_type": "markdown",
   "metadata": {},
   "source": [
    "Define a function to calculate the Coulomb collision frequency according to [Braginskii (1965)](http://adsabs.harvard.edu/abs/1965RvPP....1..205B)."
   ]
  },
  {
   "cell_type": "code",
   "execution_count": 9,
   "metadata": {
    "collapsed": true
   },
   "outputs": [],
   "source": [
    "def calc_nu_ei(n,Te):\n",
    "    c1 = 16.*np.sqrt(np.pi)/3.\n",
    "    c2 = const.e.gauss.value**4/(const.m_e.cgs.value*const.m_p.cgs.value)\n",
    "    c3 = 2.*const.k_B.cgs.value*Te/const.m_e.cgs.value\n",
    "    colLog = 20.\n",
    "    return c1*c2*c3**(-3./2.)*n*colLog"
   ]
  },
  {
   "cell_type": "markdown",
   "metadata": {},
   "source": [
    "Calculate the terms as given in the equation above."
   ]
  },
  {
   "cell_type": "code",
   "execution_count": 10,
   "metadata": {
    "collapsed": false
   },
   "outputs": [],
   "source": [
    "delta_terms = []\n",
    "delta_terms.append(fce/(config_dict['loop_length'])/(1.+Te/Ti))\n",
    "delta_terms.append(-fci/(config_dict['loop_length'])*(Te/Ti)/(1.+Te/Ti))\n",
    "delta_terms.append(-(Te/Ti*(r3+1.) + 1.)/(1.+Te/Ti)*n**2*rad)\n",
    "#delta_terms.append(q)\n",
    "tmp = np.zeros(len(Te))\n",
    "for i in range(len(Te)):\n",
    "    tmp[i] = const.k_B.cgs.value/(5./3. - 1.)*n[i]*calc_nu_ei(n[i],Te[i])*(Ti[i] - Te[i])\n",
    "delta_terms.append(tmp)"
   ]
  },
  {
   "cell_type": "markdown",
   "metadata": {},
   "source": [
    "Make the figure."
   ]
  },
  {
   "cell_type": "code",
   "execution_count": 11,
   "metadata": {
    "collapsed": true
   },
   "outputs": [],
   "source": [
    "labels = [r'$\\mathrm{e}^{-}$ $\\mathrm{thermal}$ $\\mathrm{conduction}$',\n",
    "          r'$\\mathrm{ion}$ $\\mathrm{thermal}$ $\\mathrm{conduction}$',\n",
    "          r'$\\mathrm{radiation}$',r'$\\mathrm{equilibration}$']"
   ]
  },
  {
   "cell_type": "code",
   "execution_count": 12,
   "metadata": {
    "collapsed": false
   },
   "outputs": [
    {
     "data": {
      "image/png": "[encoded data removed]",
      "text/plain": [
       "<matplotlib.figure.Figure at 0x10cd80890>"
      ]
     },
     "metadata": {},
     "output_type": "display_data"
    }
   ],
   "source": [
    "fig = plt.figure()\n",
    "ax = fig.gca()\n",
    "for i in range(len(delta_terms)):\n",
    "        ax.plot(t,delta_terms[i],color=sns.color_palette('deep')[i],label=labels[i])\n",
    "ax.plot(t,1.0/(config_dict['loop_length'])*1./(1.+Te/Ti)*(fce + (r3*(config_dict['loop_length'])*(n**2)*rad)-Te/Ti*fci),\n",
    "       linestyle='dotted',color='k',label=r'$\\psi_{TR}$')\n",
    "ax.set_xscale('log')\n",
    "ax.yaxis.set_major_locator(ticker.MaxNLocator(nbins=4))\n",
    "ax.set_xlim([1,config_dict['total_time']])\n",
    "ax.set_xlabel(r'$t$ $\\mathrm{(s)}$')\n",
    "ax.set_ylabel(r'$\\Delta\\bar{E}_e$ $(\\mathrm{erg}$ $\\mathrm{cm}^{-3}$ $\\mathrm{s}^{-1})$')\n",
    "ax.legend(loc='best')\n",
    "plt.savefig(__dest__)\n",
    "plt.show()"
   ]
  },
  {
   "cell_type": "code",
   "execution_count": 13,
   "metadata": {
    "collapsed": true
   },
   "outputs": [],
   "source": []
  }
 ],
 "metadata": {
  "anaconda-cloud": {},
  "kernelspec": {
   "display_name": "Python 2",
   "language": "python",
   "name": "python2"
  },
  "language_info": {
   "codemirror_mode": {
    "name": "ipython",
    "version": 2
   },
   "file_extension": ".py",
   "mimetype": "text/x-python",
   "name": "python",
   "nbconvert_exporter": "python",
   "pygments_lexer": "ipython2",
   "version": "2.7.11"
  }
 },
 "nbformat": 4,
 "nbformat_minor": 0
}
