{
 "cells": [
  {
   "cell_type": "code",
   "execution_count": 1,
   "metadata": {
    "collapsed": true
   },
   "outputs": [],
   "source": [
    "__depends__=[]\n",
    "__dest__=\"../results/table_a1.tex\""
   ]
  },
  {
   "cell_type": "markdown",
   "metadata": {},
   "source": [
    "# Make Table Comparing HYDRAD and EBTEL Results\n",
    "Here, we'll build a table comparing the accuracy of EBTEL for various inputs as measured by HYDRAD. These HYDRAD results come from several different papers (including this one) and so are hardcoded. "
   ]
  },
  {
   "cell_type": "code",
   "execution_count": 2,
   "metadata": {
    "collapsed": true
   },
   "outputs": [],
   "source": [
    "import sys\n",
    "import os\n",
    "import subprocess\n",
    "\n",
    "import numpy as np\n",
    "import astropy.constants as ac\n",
    "from astropy.table import Table,Column\n",
    "from astropy.io import ascii\n",
    "\n",
    "sys.path.append(os.path.join(os.environ['EXP_DIR'],'ebtelPlusPlus','rsp_toolkit','python'))\n",
    "from xml_io import InputHandler,OutputHandler"
   ]
  },
  {
   "cell_type": "markdown",
   "metadata": {},
   "source": [
    "The different cases that we consider are:\n",
    "\n",
    "* $\\tau=200$ s from current paper\n",
    "* $\\tau=500$ s from current paper\n",
    "* Case 1 from [Cargill et al. (2012a)](http://adsabs.harvard.edu/abs/2012ApJ...752..161C)\n",
    "* Case 2 from [Cargill et al. (2012a)](http://adsabs.harvard.edu/abs/2012ApJ...752..161C)\n",
    "* Case 3 from [Cargill et al. (2012a)](http://adsabs.harvard.edu/abs/2012ApJ...752..161C)\n",
    "* Case 4 from [Cargill et al. (2012a)](http://adsabs.harvard.edu/abs/2012ApJ...752..161C)\n",
    "* Group 6 from [Bradshaw and Cargill (2013)](http://adsabs.harvard.edu/abs/2013ApJ...770...12B) \n",
    "* Group 11 from [Bradshaw and Cargill (2013)](http://adsabs.harvard.edu/abs/2013ApJ...770...12B)\n",
    "\n",
    "First, configure the base input dictionary."
   ]
  },
  {
   "cell_type": "code",
   "execution_count": 3,
   "metadata": {
    "collapsed": true
   },
   "outputs": [],
   "source": [
    "ih = InputHandler(os.path.join(os.environ['EXP_DIR'],'ebtelPlusPlus','config','ebtel.example.cfg.xml'))\n",
    "config_dict = ih.lookup_vars()"
   ]
  },
  {
   "cell_type": "code",
   "execution_count": 4,
   "metadata": {
    "collapsed": true
   },
   "outputs": [],
   "source": [
    "config_dict['calculate_dem'] = False\n",
    "config_dict['use_flux_limiting'] = True\n",
    "config_dict['use_adaptive_solver'] = True\n",
    "config_dict['heating']['partition'] = 0.5\n",
    "config_dict['force_single_fluid'] = True\n",
    "config_dict['rka_error'] = 1e-9\n",
    "config_dict['saturation_limit'] = 1.0\n",
    "config_dict['output_filename'] = '../results/_tmp_'\n",
    "config_dict['c1_rad0'] = 0.6\n",
    "config_dict['use_c1_grav_correction'] = True\n",
    "config_dict['use_c1_loss_correction'] = True\n",
    "config_dict['tau'] = 0.1"
   ]
  },
  {
   "cell_type": "markdown",
   "metadata": {},
   "source": [
    "Next, configure all the case we're going to look at."
   ]
  },
  {
   "cell_type": "code",
   "execution_count": 5,
   "metadata": {
    "collapsed": true
   },
   "outputs": [],
   "source": [
    "appendix_a_table_cases = [\n",
    "    {'hydrad_nmax':37.6,'total_time':5e+3,'loop_length':40.0,'t_pulse_half':100,'h_nano':0.1,'h_back':3.5e-5},\n",
    "    {'hydrad_nmax':37.7,'total_time':5e+3,'loop_length':40.0,'t_pulse_half':250,'h_nano':0.04,'h_back':3.5e-5},\n",
    "    {'hydrad_nmax':3.7,'total_time':1e+4,'loop_length':75.0,'h_nano':1.5e-3,'t_pulse_half':250.0,'h_back':2.95e-6},\n",
    "    {'hydrad_nmax':10.7,'total_time':6e+3,'loop_length':25.0,'h_nano':1e-2,'t_pulse_half':100.0,'h_back':3.19e-5},\n",
    "    {'hydrad_nmax':339,'total_time':2e+3,'loop_length':25.0,'h_nano':2.0,'t_pulse_half':100.0,'h_back':1.29e-3},\n",
    "    {'hydrad_nmax':15.5,'total_time':2e+3,'loop_length':25.0,'h_nano':1e-2,'t_pulse_half':100.0,'h_back':4.45e-4},\n",
    "    {'hydrad_nmax':350.0,'total_time':2e3,'loop_length':20.0,'h_nano':0.8,'t_pulse_half':300.0,'h_back':3.19e-5},\n",
    "    {'hydrad_nmax':10.0,'total_time':5e3,'loop_length':80.0,'h_nano':0.005,'t_pulse_half':300.0,'h_back':3.19e-5}\n",
    "]"
   ]
  },
  {
   "cell_type": "markdown",
   "metadata": {},
   "source": [
    "Now, do all of the runs and build the table."
   ]
  },
  {
   "cell_type": "code",
   "execution_count": 6,
   "metadata": {
    "collapsed": false
   },
   "outputs": [],
   "source": [
    "table_data = []\n",
    "oh = OutputHandler(config_dict['output_filename']+'.xml',config_dict)\n",
    "for t_case in appendix_a_table_cases:\n",
    "    table_row = []\n",
    "    #configure main options\n",
    "    oh.output_dict['total_time'] = t_case['total_time']\n",
    "    oh.output_dict['loop_length'] = t_case['loop_length']*1e+8\n",
    "    oh.output_dict['heating']['background'] = t_case['h_back']\n",
    "    oh.output_dict['heating']['events'] = [\n",
    "        {'event':{'magnitude':t_case['h_nano'],\n",
    "                  'rise_start':0.0,'rise_end':t_case['t_pulse_half'],\n",
    "                  'decay_start':t_case['t_pulse_half'],'decay_end':2*t_case['t_pulse_half']\n",
    "                 }\n",
    "        }\n",
    "    ]\n",
    "    #run w/o correction\n",
    "    oh.output_dict['c1_cond0'] = 2.0\n",
    "    oh.print_to_xml()\n",
    "    subprocess.call([os.path.join(os.environ['EXP_DIR'],'ebtelPlusPlus','bin','ebtel++.run'),\n",
    "                     '-c',oh.output_filename])    \n",
    "    nmax_uc = np.max(np.loadtxt(oh.output_dict['output_filename'])[:,3])/1e+8\n",
    "    #run w/ correction\n",
    "    oh.output_dict['c1_cond0'] = 6.0\n",
    "    oh.print_to_xml()\n",
    "    subprocess.call([os.path.join(os.environ['EXP_DIR'],'ebtelPlusPlus','bin','ebtel++.run'),\n",
    "                     '-c',oh.output_filename])    \n",
    "    nmax_c = np.max(np.loadtxt(oh.output_dict['output_filename'])[:,3])/1e+8\n",
    "    #set table entries\n",
    "    table_row = [\n",
    "        2*t_case['loop_length'],\n",
    "        2*t_case['t_pulse_half'],\n",
    "        t_case['h_nano'],\n",
    "        t_case['hydrad_nmax'],\n",
    "        nmax_uc,\n",
    "        nmax_c\n",
    "    ]\n",
    "    #save to table\n",
    "    table_data.append(table_row)"
   ]
  },
  {
   "cell_type": "markdown",
   "metadata": {},
   "source": [
    "Set the headers, units, formatting rules, and caption for the table."
   ]
  },
  {
   "cell_type": "code",
   "execution_count": 7,
   "metadata": {
    "collapsed": true
   },
   "outputs": [],
   "source": [
    "headers = ['$2L$','$\\\\tau$','$H_0$',\n",
    "           '$n_{max}$, HYDRAD','$n_{max}$, EBTEL',\n",
    "           '$n_{max}$, EBTEL (Eq. \\\\ref{eq:c1_mod})']\n",
    "units = ['(Mm)','(s)','(erg cm$^{-3}$ s$^{-1}$)','($10^8$ cm$^{-3}$)','($10^8$ cm$^{-3}$)','($10^8$ cm$^{-3}$)']\n",
    "formats={}\n",
    "for h,i in zip(headers,range(len(headers))):\n",
    "    if i==2:\n",
    "        formats[h] = '%.2g'\n",
    "    elif i<2:\n",
    "        formats[h] = '%.0f'\n",
    "    else:\n",
    "        formats[h] = '%.1f'"
   ]
  },
  {
   "cell_type": "code",
   "execution_count": 8,
   "metadata": {
    "collapsed": true
   },
   "outputs": [],
   "source": [
    "caption = r'''Comparison between HYDRAD and EBTEL with $c_1=2$ and $c_1$ given by \\autoref{eq:c1_mod}, for $n<n_{eq}$.\n",
    "The first three columns show the full loop length, heating pulse duration, and maximum heating rate.\n",
    "The last three columns show $n_{max}$ for the three models.\n",
    "Only $n_{max}$ is shown as $T_{max}$ is relatively insensitive to the value of $c_1$. \n",
    "The first two rows correspond to the $\\tau=200,500$ s cases considered in this paper. \n",
    "The next four rows are the four cases shown in Table 2 of \\citet{cargill_enthalpy-based_2012}. \n",
    "The last two rows are cases 6 and 11 from Table 1 of \\citet{bradshaw_influence_2013}.\n",
    "'''"
   ]
  },
  {
   "cell_type": "markdown",
   "metadata": {},
   "source": [
    "Finally, format our data structure as an astropy table."
   ]
  },
  {
   "cell_type": "code",
   "execution_count": 9,
   "metadata": {
    "collapsed": false
   },
   "outputs": [
    {
     "data": {
      "text/html": [
       "&lt;Table length=8&gt;\n",
       "<table id=\"table4454280912\">\n",
       "<thead><tr><th>$2L$</th><th>$\\tau$</th><th>$H_0$</th><th>$n_{max}$, HYDRAD</th><th>$n_{max}$, EBTEL</th><th>$n_{max}$, EBTEL (Eq. \\ref{eq:c1_mod})</th></tr></thead>\n",
       "<thead><tr><th>float64</th><th>float64</th><th>float64</th><th>float64</th><th>float64</th><th>float64</th></tr></thead>\n",
       "<tr><td>80.0</td><td>200.0</td><td>0.1</td><td>37.6</td><td>45.1261</td><td>40.5023</td></tr>\n",
       "<tr><td>80.0</td><td>500.0</td><td>0.04</td><td>37.7</td><td>44.9067</td><td>40.058</td></tr>\n",
       "<tr><td>150.0</td><td>500.0</td><td>0.0015</td><td>3.7</td><td>3.91146</td><td>3.51059</td></tr>\n",
       "<tr><td>50.0</td><td>200.0</td><td>0.01</td><td>10.7</td><td>11.534</td><td>10.3231</td></tr>\n",
       "<tr><td>50.0</td><td>200.0</td><td>2.0</td><td>339.0</td><td>398.621</td><td>357.074</td></tr>\n",
       "<tr><td>50.0</td><td>200.0</td><td>0.01</td><td>15.5</td><td>16.5214</td><td>14.4815</td></tr>\n",
       "<tr><td>40.0</td><td>600.0</td><td>0.8</td><td>350.0</td><td>459.433</td><td>395.765</td></tr>\n",
       "<tr><td>160.0</td><td>600.0</td><td>0.005</td><td>10.0</td><td>10.4359</td><td>9.30094</td></tr>\n",
       "</table>"
      ],
      "text/plain": [
       "<Table length=8>\n",
       "  $2L$   $\\tau$  $H_0$  $n_{max}$, HYDRAD $n_{max}$, EBTEL $n_{max}$, EBTEL (Eq. \\ref{eq:c1_mod})\n",
       "float64 float64 float64      float64          float64                     float64                \n",
       "------- ------- ------- ----------------- ---------------- --------------------------------------\n",
       "   80.0   200.0     0.1              37.6          45.1261                                40.5023\n",
       "   80.0   500.0    0.04              37.7          44.9067                                 40.058\n",
       "  150.0   500.0  0.0015               3.7          3.91146                                3.51059\n",
       "   50.0   200.0    0.01              10.7           11.534                                10.3231\n",
       "   50.0   200.0     2.0             339.0          398.621                                357.074\n",
       "   50.0   200.0    0.01              15.5          16.5214                                14.4815\n",
       "   40.0   600.0     0.8             350.0          459.433                                395.765\n",
       "  160.0   600.0   0.005              10.0          10.4359                                9.30094"
      ]
     },
     "execution_count": 9,
     "metadata": {},
     "output_type": "execute_result"
    }
   ],
   "source": [
    "col_table = []\n",
    "for i in range(len(headers)):\n",
    "    temp_col = [t[i] for t in table_data]\n",
    "    col_table.append(temp_col)\n",
    "aas_table = Table(col_table,names=headers)\n",
    "aas_table"
   ]
  },
  {
   "cell_type": "markdown",
   "metadata": {},
   "source": [
    "And print it to a file as an AAS$\\TeX$ `deluxetable` object."
   ]
  },
  {
   "cell_type": "code",
   "execution_count": 10,
   "metadata": {
    "collapsed": true
   },
   "outputs": [],
   "source": [
    "ascii.write(aas_table,output=__dest__,format='aastex',formats=formats,caption=caption,\n",
    "            latexdict={'units':{h:u for h,u in zip(headers,units)},'tablefoot':r'\\label{tab:table_c1_compare}'})"
   ]
  },
  {
   "cell_type": "code",
   "execution_count": 11,
   "metadata": {
    "collapsed": true
   },
   "outputs": [],
   "source": []
  }
 ],
 "metadata": {
  "anaconda-cloud": {},
  "kernelspec": {
   "display_name": "Python 2",
   "language": "python",
   "name": "python2"
  },
  "language_info": {
   "codemirror_mode": {
    "name": "ipython",
    "version": 2
   },
   "file_extension": ".py",
   "mimetype": "text/x-python",
   "name": "python",
   "nbconvert_exporter": "python",
   "pygments_lexer": "ipython2",
   "version": "2.7.11"
  }
 },
 "nbformat": 4,
 "nbformat_minor": 0
}
