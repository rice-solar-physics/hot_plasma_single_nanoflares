{
 "cells": [
  {
   "cell_type": "code",
   "execution_count": 1,
   "metadata": {
    "collapsed": true
   },
   "outputs": [],
   "source": [
    "__depends__=[]\n",
    "__dest__=\"../results/hydrad_varying_tau_results.pickle\""
   ]
  },
  {
   "cell_type": "markdown",
   "metadata": {},
   "source": [
    "# Read HYDRAD Results\n",
    "In our paper, we make various comparisons between EBTEL and the field-aligned code HYDRAD. However, runs of HYDRAD are computationally expensive and it is not feasible to do these on the fly. We are in the process of making HYDRAD available to the public so at some point a more _open_ solution may be possible.\n",
    "\n",
    "For now, we provide only the output of HYDRAD which will be averaged over the coronal portion of the loop to extract timeseries for the electron and ion temperatures as well as density.\n",
    "\n",
    "Unfortunately, for the entire parameter space covered, the dataset is quite large. Here we provide the utilities for doing the time averaging, but do not as of yet have a way of efficiently and openly distributing this dataset. If you know of a viable solution, do not hesitate to contact us. We would be happy to provide this dataset to anyone interested.\n",
    "\n",
    "For now, we include only the already-time-averaged results. We merely read in these text files and convert them to Python pickle files. If you have the full HYDRAD dataset in `../results/static/`, the averaging calculation will be performed."
   ]
  },
  {
   "cell_type": "code",
   "execution_count": 2,
   "metadata": {
    "collapsed": true
   },
   "outputs": [],
   "source": [
    "import os\n",
    "import pickle\n",
    "\n",
    "import numpy as np"
   ]
  },
  {
   "cell_type": "markdown",
   "metadata": {},
   "source": [
    "Compute the coronal averages for temperature and density over the whole parameter space: electron heating, ion heating, single fluid and $\\tau=20,40,200,500$ s.\n",
    "\n",
    "First, set some options and define the range of parameters."
   ]
  },
  {
   "cell_type": "code",
   "execution_count": 3,
   "metadata": {
    "collapsed": false
   },
   "outputs": [],
   "source": [
    "hfRes_format = '../results/static/HYDRAD_raw/%s/HYDRAD_%d/profile%d.phy'\n",
    "hydrad_labs = [20,40,200,500]\n",
    "hydrad_res = {'electron':{},'ion':{},'single':{},\n",
    "              'loop_midpoint':4.5e+9, 'time':np.arange(0,5001)}\n",
    "int_perc = 0.8"
   ]
  },
  {
   "cell_type": "markdown",
   "metadata": {},
   "source": [
    "Define a function to do the spatial averaging."
   ]
  },
  {
   "cell_type": "code",
   "execution_count": 4,
   "metadata": {
    "collapsed": true
   },
   "outputs": [],
   "source": [
    "def spatial_average(s,f,mp,eps_mp):\n",
    "    #calculate bounds\n",
    "    mp_lower = mp - eps_mp/2.0*mp\n",
    "    mp_upper = mp + eps_mp/2.0*mp\n",
    "    #find f and s within specified bounds\n",
    "    i_eb = np.where((s>=mp_lower) & (s<=mp_upper))[0]\n",
    "    s_eb = s[i_eb]\n",
    "    f_eb = f[i_eb]\n",
    "    #take average\n",
    "    delta_s = np.gradient(s_eb)\n",
    "    return np.average(f_eb,weights=delta_s)"
   ]
  },
  {
   "cell_type": "markdown",
   "metadata": {},
   "source": [
    "Now, if the raw HYDRAD results are in the appropriate directory, do the time average over all of them and save them to a data structure. Otherwise, just load the time-dependent spatial averages from a binary blob."
   ]
  },
  {
   "cell_type": "code",
   "execution_count": 5,
   "metadata": {
    "collapsed": true
   },
   "outputs": [],
   "source": [
    "if os.path.isdir('../results/static/HYDRAD_raw') and not os.path.isfile('../results/static/hydrad_varying_tau_results.pickle'):\n",
    "    for key in hydrad_res:\n",
    "        if key=='loop_midpoint' or key=='time':\n",
    "            continue\n",
    "        for hl in hydrad_labs:\n",
    "            Te_avg = []\n",
    "            Ti_avg = []\n",
    "            n_avg = []\n",
    "            for t in hydrad_res['time']:\n",
    "                #Load results\n",
    "                temp = np.loadtxt(hfRes_format%(key,hl,t))\n",
    "                #slice\n",
    "                s_temp = temp[:,0]\n",
    "                Te_temp = temp[:,7]\n",
    "                Ti_temp = temp[:,8]\n",
    "                n_temp = temp[:,3]\n",
    "                #save averages\n",
    "                Te_avg.append(spatial_average(s_temp,Te_temp,hydrad_res['loop_midpoint'],int_perc))\n",
    "                Ti_avg.append(spatial_average(s_temp,Ti_temp,hydrad_res['loop_midpoint'],int_perc))\n",
    "                n_avg.append(spatial_average(s_temp,n_temp,hydrad_res['loop_midpoint'],int_perc))\n",
    "\n",
    "            hydrad_res[key]['tau%ds'%hl] = {'Te':Te_avg,'Ti':Ti_avg,'n':n_avg}\n",
    "else:\n",
    "    with open('../results/static/hydrad_varying_tau_results.pickle','rb') as f:\n",
    "        hydrad_res = pickle.load(f)"
   ]
  },
  {
   "cell_type": "markdown",
   "metadata": {},
   "source": [
    "Finally, save the results as a serialized pickle file."
   ]
  },
  {
   "cell_type": "code",
   "execution_count": 6,
   "metadata": {
    "collapsed": true
   },
   "outputs": [],
   "source": [
    "with open(__dest__,'wb') as f:\n",
    "    pickle.dump(hydrad_res,f)"
   ]
  },
  {
   "cell_type": "code",
   "execution_count": 7,
   "metadata": {
    "collapsed": true
   },
   "outputs": [],
   "source": []
  }
 ],
 "metadata": {
  "kernelspec": {
   "display_name": "Python 2",
   "language": "python",
   "name": "python2"
  },
  "language_info": {
   "codemirror_mode": {
    "name": "ipython",
    "version": 2
   },
   "file_extension": ".py",
   "mimetype": "text/x-python",
   "name": "python",
   "nbconvert_exporter": "python",
   "pygments_lexer": "ipython2",
   "version": "2.7.11"
  }
 },
 "nbformat": 4,
 "nbformat_minor": 0
}
